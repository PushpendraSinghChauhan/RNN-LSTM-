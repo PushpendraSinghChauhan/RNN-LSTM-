{
 "cells": [
  {
   "cell_type": "markdown",
   "metadata": {
    "colab_type": "text",
    "id": "GDHut9-qj2Dg"
   },
   "source": [
    "# OBJECTIVE :- Built LSTM model on Amazon Fine Food Reviews"
   ]
  },
  {
   "cell_type": "code",
   "execution_count": 2,
   "metadata": {
    "colab": {
     "base_uri": "https://localhost:8080/",
     "height": 348
    },
    "colab_type": "code",
    "id": "Tn0QoZ0RjBa7",
    "outputId": "c25588ca-b85b-4c33-808f-5bd8af4441c4"
   },
   "outputs": [
    {
     "name": "stdout",
     "output_type": "stream",
     "text": [
      "Requirement already satisfied: gensim in /usr/local/lib/python3.6/dist-packages (3.5.0)\n",
      "Requirement already satisfied: six>=1.5.0 in /usr/local/lib/python3.6/dist-packages (from gensim) (1.11.0)\n",
      "Requirement already satisfied: smart-open>=1.2.1 in /usr/local/lib/python3.6/dist-packages (from gensim) (1.7.1)\n",
      "Requirement already satisfied: numpy>=1.11.3 in /usr/local/lib/python3.6/dist-packages (from gensim) (1.14.5)\n",
      "Requirement already satisfied: scipy>=0.18.1 in /usr/local/lib/python3.6/dist-packages (from gensim) (0.19.1)\n",
      "Requirement already satisfied: requests in /usr/local/lib/python3.6/dist-packages (from smart-open>=1.2.1->gensim) (2.18.4)\n",
      "Requirement already satisfied: boto>=2.32 in /usr/local/lib/python3.6/dist-packages (from smart-open>=1.2.1->gensim) (2.49.0)\n",
      "Requirement already satisfied: bz2file in /usr/local/lib/python3.6/dist-packages (from smart-open>=1.2.1->gensim) (0.98)\n",
      "Requirement already satisfied: boto3 in /usr/local/lib/python3.6/dist-packages (from smart-open>=1.2.1->gensim) (1.9.7)\n",
      "Requirement already satisfied: urllib3<1.23,>=1.21.1 in /usr/local/lib/python3.6/dist-packages (from requests->smart-open>=1.2.1->gensim) (1.22)\n",
      "Requirement already satisfied: chardet<3.1.0,>=3.0.2 in /usr/local/lib/python3.6/dist-packages (from requests->smart-open>=1.2.1->gensim) (3.0.4)\n",
      "Requirement already satisfied: idna<2.7,>=2.5 in /usr/local/lib/python3.6/dist-packages (from requests->smart-open>=1.2.1->gensim) (2.6)\n",
      "Requirement already satisfied: certifi>=2017.4.17 in /usr/local/lib/python3.6/dist-packages (from requests->smart-open>=1.2.1->gensim) (2018.8.24)\n",
      "Requirement already satisfied: botocore<1.13.0,>=1.12.7 in /usr/local/lib/python3.6/dist-packages (from boto3->smart-open>=1.2.1->gensim) (1.12.7)\n",
      "Requirement already satisfied: s3transfer<0.2.0,>=0.1.10 in /usr/local/lib/python3.6/dist-packages (from boto3->smart-open>=1.2.1->gensim) (0.1.13)\n",
      "Requirement already satisfied: jmespath<1.0.0,>=0.7.1 in /usr/local/lib/python3.6/dist-packages (from boto3->smart-open>=1.2.1->gensim) (0.9.3)\n",
      "Requirement already satisfied: python-dateutil<3.0.0,>=2.1; python_version >= \"2.7\" in /usr/local/lib/python3.6/dist-packages (from botocore<1.13.0,>=1.12.7->boto3->smart-open>=1.2.1->gensim) (2.5.3)\n",
      "Requirement already satisfied: docutils>=0.10 in /usr/local/lib/python3.6/dist-packages (from botocore<1.13.0,>=1.12.7->boto3->smart-open>=1.2.1->gensim) (0.14)\n"
     ]
    }
   ],
   "source": [
    "# Installing package\n",
    "!pip install gensim\n",
    "\n",
    "# Importing libraries\n",
    "import warnings\n",
    "warnings.filterwarnings(\"ignore\")\n",
    "\n",
    "import pandas as pd\n",
    "import numpy as np\n",
    "import nltk\n",
    "import string\n",
    "import matplotlib.pyplot as plt\n",
    "%matplotlib inline\n",
    "import seaborn as sns\n",
    "\n",
    "from sklearn.feature_extraction.text import CountVectorizer\n",
    "from nltk.stem.porter import PorterStemmer\n",
    "import re\n",
    "import string\n",
    "from nltk.corpus import stopwords\n",
    "from nltk.stem import PorterStemmer\n",
    "from nltk.stem.wordnet import WordNetLemmatizer\n",
    "\n",
    "from gensim.models import Word2Vec\n",
    "from gensim.models import KeyedVectors\n",
    "import pickle"
   ]
  },
  {
   "cell_type": "markdown",
   "metadata": {
    "colab_type": "text",
    "id": "BvrN9fYrkubx"
   },
   "source": [
    "## Loading Data from Reviews.CSV file in Google Drive"
   ]
  },
  {
   "cell_type": "code",
   "execution_count": 0,
   "metadata": {
    "colab": {},
    "colab_type": "code",
    "id": "n19Yb-bMkw8G"
   },
   "outputs": [],
   "source": [
    "# Install the PyDrive wrapper & import libraries.\n",
    "!pip install -U -q PyDrive\n",
    "from pydrive.auth import GoogleAuth\n",
    "from pydrive.drive import GoogleDrive\n",
    "from google.colab import auth\n",
    "from oauth2client.client import GoogleCredentials"
   ]
  },
  {
   "cell_type": "code",
   "execution_count": 0,
   "metadata": {
    "colab": {},
    "colab_type": "code",
    "id": "mh50KKUU4-M_"
   },
   "outputs": [],
   "source": [
    "# Authenticate and create the PyDrive client.\n",
    "auth.authenticate_user()\n",
    "gauth = GoogleAuth()\n",
    "gauth.credentials = GoogleCredentials.get_application_default()\n",
    "drive = GoogleDrive(gauth)"
   ]
  },
  {
   "cell_type": "code",
   "execution_count": 0,
   "metadata": {
    "colab": {},
    "colab_type": "code",
    "id": "M6ED7jmg5J8k"
   },
   "outputs": [],
   "source": [
    "# Downloading a file based on its file ID\n",
    "#file_id = 'REPLACE_WITH_YOUR_FILE_ID'\n",
    "#downloaded = drive.CreateFile({'id': file_id})\n",
    "downloaded = drive.CreateFile({'id':'1pHPZn0WOyqUGfBTLSuBw1ggKe_DOaZdw'}) \n",
    "downloaded.GetContentFile('Reviews.CSV')\n",
    "\n",
    "# Getting data into a dataframe\n",
    "df = pd.read_csv('Reviews.CSV')"
   ]
  },
  {
   "cell_type": "code",
   "execution_count": 6,
   "metadata": {
    "colab": {
     "base_uri": "https://localhost:8080/",
     "height": 665
    },
    "colab_type": "code",
    "id": "YTTyAha-50az",
    "outputId": "1de663a7-0690-4679-96cf-76834de14dae"
   },
   "outputs": [
    {
     "data": {
      "text/html": [
       "<div>\n",
       "<style scoped>\n",
       "    .dataframe tbody tr th:only-of-type {\n",
       "        vertical-align: middle;\n",
       "    }\n",
       "\n",
       "    .dataframe tbody tr th {\n",
       "        vertical-align: top;\n",
       "    }\n",
       "\n",
       "    .dataframe thead th {\n",
       "        text-align: right;\n",
       "    }\n",
       "</style>\n",
       "<table border=\"1\" class=\"dataframe\">\n",
       "  <thead>\n",
       "    <tr style=\"text-align: right;\">\n",
       "      <th></th>\n",
       "      <th>Id</th>\n",
       "      <th>ProductId</th>\n",
       "      <th>UserId</th>\n",
       "      <th>ProfileName</th>\n",
       "      <th>HelpfulnessNumerator</th>\n",
       "      <th>HelpfulnessDenominator</th>\n",
       "      <th>Score</th>\n",
       "      <th>Time</th>\n",
       "      <th>Summary</th>\n",
       "      <th>Text</th>\n",
       "    </tr>\n",
       "  </thead>\n",
       "  <tbody>\n",
       "    <tr>\n",
       "      <th>0</th>\n",
       "      <td>1</td>\n",
       "      <td>B001E4KFG0</td>\n",
       "      <td>A3SGXH7AUHU8GW</td>\n",
       "      <td>delmartian</td>\n",
       "      <td>1</td>\n",
       "      <td>1</td>\n",
       "      <td>5</td>\n",
       "      <td>1303862400</td>\n",
       "      <td>Good Quality Dog Food</td>\n",
       "      <td>I have bought several of the Vitality canned d...</td>\n",
       "    </tr>\n",
       "    <tr>\n",
       "      <th>1</th>\n",
       "      <td>2</td>\n",
       "      <td>B00813GRG4</td>\n",
       "      <td>A1D87F6ZCVE5NK</td>\n",
       "      <td>dll pa</td>\n",
       "      <td>0</td>\n",
       "      <td>0</td>\n",
       "      <td>1</td>\n",
       "      <td>1346976000</td>\n",
       "      <td>Not as Advertised</td>\n",
       "      <td>Product arrived labeled as Jumbo Salted Peanut...</td>\n",
       "    </tr>\n",
       "    <tr>\n",
       "      <th>2</th>\n",
       "      <td>3</td>\n",
       "      <td>B000LQOCH0</td>\n",
       "      <td>ABXLMWJIXXAIN</td>\n",
       "      <td>Natalia Corres \"Natalia Corres\"</td>\n",
       "      <td>1</td>\n",
       "      <td>1</td>\n",
       "      <td>4</td>\n",
       "      <td>1219017600</td>\n",
       "      <td>\"Delight\" says it all</td>\n",
       "      <td>This is a confection that has been around a fe...</td>\n",
       "    </tr>\n",
       "    <tr>\n",
       "      <th>3</th>\n",
       "      <td>4</td>\n",
       "      <td>B000UA0QIQ</td>\n",
       "      <td>A395BORC6FGVXV</td>\n",
       "      <td>Karl</td>\n",
       "      <td>3</td>\n",
       "      <td>3</td>\n",
       "      <td>2</td>\n",
       "      <td>1307923200</td>\n",
       "      <td>Cough Medicine</td>\n",
       "      <td>If you are looking for the secret ingredient i...</td>\n",
       "    </tr>\n",
       "    <tr>\n",
       "      <th>4</th>\n",
       "      <td>5</td>\n",
       "      <td>B006K2ZZ7K</td>\n",
       "      <td>A1UQRSCLF8GW1T</td>\n",
       "      <td>Michael D. Bigham \"M. Wassir\"</td>\n",
       "      <td>0</td>\n",
       "      <td>0</td>\n",
       "      <td>5</td>\n",
       "      <td>1350777600</td>\n",
       "      <td>Great taffy</td>\n",
       "      <td>Great taffy at a great price.  There was a wid...</td>\n",
       "    </tr>\n",
       "  </tbody>\n",
       "</table>\n",
       "</div>"
      ],
      "text/plain": [
       "   Id   ProductId          UserId                      ProfileName  \\\n",
       "0   1  B001E4KFG0  A3SGXH7AUHU8GW                       delmartian   \n",
       "1   2  B00813GRG4  A1D87F6ZCVE5NK                           dll pa   \n",
       "2   3  B000LQOCH0   ABXLMWJIXXAIN  Natalia Corres \"Natalia Corres\"   \n",
       "3   4  B000UA0QIQ  A395BORC6FGVXV                             Karl   \n",
       "4   5  B006K2ZZ7K  A1UQRSCLF8GW1T    Michael D. Bigham \"M. Wassir\"   \n",
       "\n",
       "   HelpfulnessNumerator  HelpfulnessDenominator  Score        Time  \\\n",
       "0                     1                       1      5  1303862400   \n",
       "1                     0                       0      1  1346976000   \n",
       "2                     1                       1      4  1219017600   \n",
       "3                     3                       3      2  1307923200   \n",
       "4                     0                       0      5  1350777600   \n",
       "\n",
       "                 Summary                                               Text  \n",
       "0  Good Quality Dog Food  I have bought several of the Vitality canned d...  \n",
       "1      Not as Advertised  Product arrived labeled as Jumbo Salted Peanut...  \n",
       "2  \"Delight\" says it all  This is a confection that has been around a fe...  \n",
       "3         Cough Medicine  If you are looking for the secret ingredient i...  \n",
       "4            Great taffy  Great taffy at a great price.  There was a wid...  "
      ]
     },
     "execution_count": 6,
     "metadata": {
      "tags": []
     },
     "output_type": "execute_result"
    }
   ],
   "source": [
    "df.head()"
   ]
  },
  {
   "cell_type": "code",
   "execution_count": 7,
   "metadata": {
    "colab": {
     "base_uri": "https://localhost:8080/",
     "height": 682
    },
    "colab_type": "code",
    "id": "VuiBgg0l597S",
    "outputId": "30c32350-bb43-4e5f-cc42-8db9b22767ae"
   },
   "outputs": [
    {
     "name": "stdout",
     "output_type": "stream",
     "text": [
      "(525814, 10)\n"
     ]
    },
    {
     "data": {
      "text/html": [
       "<div>\n",
       "<style scoped>\n",
       "    .dataframe tbody tr th:only-of-type {\n",
       "        vertical-align: middle;\n",
       "    }\n",
       "\n",
       "    .dataframe tbody tr th {\n",
       "        vertical-align: top;\n",
       "    }\n",
       "\n",
       "    .dataframe thead th {\n",
       "        text-align: right;\n",
       "    }\n",
       "</style>\n",
       "<table border=\"1\" class=\"dataframe\">\n",
       "  <thead>\n",
       "    <tr style=\"text-align: right;\">\n",
       "      <th></th>\n",
       "      <th>Id</th>\n",
       "      <th>ProductId</th>\n",
       "      <th>UserId</th>\n",
       "      <th>ProfileName</th>\n",
       "      <th>HelpfulnessNumerator</th>\n",
       "      <th>HelpfulnessDenominator</th>\n",
       "      <th>Score</th>\n",
       "      <th>Time</th>\n",
       "      <th>Summary</th>\n",
       "      <th>Text</th>\n",
       "    </tr>\n",
       "  </thead>\n",
       "  <tbody>\n",
       "    <tr>\n",
       "      <th>0</th>\n",
       "      <td>1</td>\n",
       "      <td>B001E4KFG0</td>\n",
       "      <td>A3SGXH7AUHU8GW</td>\n",
       "      <td>delmartian</td>\n",
       "      <td>1</td>\n",
       "      <td>1</td>\n",
       "      <td>1</td>\n",
       "      <td>1303862400</td>\n",
       "      <td>Good Quality Dog Food</td>\n",
       "      <td>I have bought several of the Vitality canned d...</td>\n",
       "    </tr>\n",
       "    <tr>\n",
       "      <th>1</th>\n",
       "      <td>2</td>\n",
       "      <td>B00813GRG4</td>\n",
       "      <td>A1D87F6ZCVE5NK</td>\n",
       "      <td>dll pa</td>\n",
       "      <td>0</td>\n",
       "      <td>0</td>\n",
       "      <td>0</td>\n",
       "      <td>1346976000</td>\n",
       "      <td>Not as Advertised</td>\n",
       "      <td>Product arrived labeled as Jumbo Salted Peanut...</td>\n",
       "    </tr>\n",
       "    <tr>\n",
       "      <th>2</th>\n",
       "      <td>3</td>\n",
       "      <td>B000LQOCH0</td>\n",
       "      <td>ABXLMWJIXXAIN</td>\n",
       "      <td>Natalia Corres \"Natalia Corres\"</td>\n",
       "      <td>1</td>\n",
       "      <td>1</td>\n",
       "      <td>1</td>\n",
       "      <td>1219017600</td>\n",
       "      <td>\"Delight\" says it all</td>\n",
       "      <td>This is a confection that has been around a fe...</td>\n",
       "    </tr>\n",
       "    <tr>\n",
       "      <th>3</th>\n",
       "      <td>4</td>\n",
       "      <td>B000UA0QIQ</td>\n",
       "      <td>A395BORC6FGVXV</td>\n",
       "      <td>Karl</td>\n",
       "      <td>3</td>\n",
       "      <td>3</td>\n",
       "      <td>0</td>\n",
       "      <td>1307923200</td>\n",
       "      <td>Cough Medicine</td>\n",
       "      <td>If you are looking for the secret ingredient i...</td>\n",
       "    </tr>\n",
       "    <tr>\n",
       "      <th>4</th>\n",
       "      <td>5</td>\n",
       "      <td>B006K2ZZ7K</td>\n",
       "      <td>A1UQRSCLF8GW1T</td>\n",
       "      <td>Michael D. Bigham \"M. Wassir\"</td>\n",
       "      <td>0</td>\n",
       "      <td>0</td>\n",
       "      <td>1</td>\n",
       "      <td>1350777600</td>\n",
       "      <td>Great taffy</td>\n",
       "      <td>Great taffy at a great price.  There was a wid...</td>\n",
       "    </tr>\n",
       "  </tbody>\n",
       "</table>\n",
       "</div>"
      ],
      "text/plain": [
       "   Id   ProductId          UserId                      ProfileName  \\\n",
       "0   1  B001E4KFG0  A3SGXH7AUHU8GW                       delmartian   \n",
       "1   2  B00813GRG4  A1D87F6ZCVE5NK                           dll pa   \n",
       "2   3  B000LQOCH0   ABXLMWJIXXAIN  Natalia Corres \"Natalia Corres\"   \n",
       "3   4  B000UA0QIQ  A395BORC6FGVXV                             Karl   \n",
       "4   5  B006K2ZZ7K  A1UQRSCLF8GW1T    Michael D. Bigham \"M. Wassir\"   \n",
       "\n",
       "   HelpfulnessNumerator  HelpfulnessDenominator  Score        Time  \\\n",
       "0                     1                       1      1  1303862400   \n",
       "1                     0                       0      0  1346976000   \n",
       "2                     1                       1      1  1219017600   \n",
       "3                     3                       3      0  1307923200   \n",
       "4                     0                       0      1  1350777600   \n",
       "\n",
       "                 Summary                                               Text  \n",
       "0  Good Quality Dog Food  I have bought several of the Vitality canned d...  \n",
       "1      Not as Advertised  Product arrived labeled as Jumbo Salted Peanut...  \n",
       "2  \"Delight\" says it all  This is a confection that has been around a fe...  \n",
       "3         Cough Medicine  If you are looking for the secret ingredient i...  \n",
       "4            Great taffy  Great taffy at a great price.  There was a wid...  "
      ]
     },
     "execution_count": 7,
     "metadata": {
      "tags": []
     },
     "output_type": "execute_result"
    }
   ],
   "source": [
    "# Eliminating neutral reviews i.e. those reviews with Score = 3\n",
    "filtered_data = df[df['Score'] != 3]\n",
    "\n",
    "# Converting Score variables to binary class variable (1-positive review and 0-negative review)\n",
    "# Give reviews with Score>3 a positive rating (1) , and reviews with a score<3 a negative rating (0).\n",
    "def polarity(x):\n",
    "    if x < 3:\n",
    "        return 0\n",
    "    return 1\n",
    "\n",
    "# Applying polarity function on Score column of filtered_data\n",
    "filtered_data['Score'] = filtered_data['Score'].map(polarity)\n",
    "\n",
    "print(filtered_data.shape)\n",
    "filtered_data.head()"
   ]
  },
  {
   "cell_type": "markdown",
   "metadata": {
    "colab_type": "text",
    "id": "HDxlSVOl7qhd"
   },
   "source": [
    "NOTE :- In above table , in Score column 1 = positive review and 0 = negative review"
   ]
  },
  {
   "cell_type": "markdown",
   "metadata": {
    "colab_type": "text",
    "id": "f2J00tlK8Afh"
   },
   "source": [
    "## Data Cleaning: Deduplication"
   ]
  },
  {
   "cell_type": "code",
   "execution_count": 8,
   "metadata": {
    "colab": {
     "base_uri": "https://localhost:8080/",
     "height": 2069
    },
    "colab_type": "code",
    "id": "8S-X5ITS73Uu",
    "outputId": "cf2b5489-d01c-49c0-b92d-e647a298b84e"
   },
   "outputs": [
    {
     "name": "stdout",
     "output_type": "stream",
     "text": [
      "(364171, 10)\n"
     ]
    },
    {
     "data": {
      "text/html": [
       "<div>\n",
       "<style scoped>\n",
       "    .dataframe tbody tr th:only-of-type {\n",
       "        vertical-align: middle;\n",
       "    }\n",
       "\n",
       "    .dataframe tbody tr th {\n",
       "        vertical-align: top;\n",
       "    }\n",
       "\n",
       "    .dataframe thead th {\n",
       "        text-align: right;\n",
       "    }\n",
       "</style>\n",
       "<table border=\"1\" class=\"dataframe\">\n",
       "  <thead>\n",
       "    <tr style=\"text-align: right;\">\n",
       "      <th></th>\n",
       "      <th>Id</th>\n",
       "      <th>ProductId</th>\n",
       "      <th>UserId</th>\n",
       "      <th>ProfileName</th>\n",
       "      <th>HelpfulnessNumerator</th>\n",
       "      <th>HelpfulnessDenominator</th>\n",
       "      <th>Score</th>\n",
       "      <th>Time</th>\n",
       "      <th>Summary</th>\n",
       "      <th>Text</th>\n",
       "    </tr>\n",
       "  </thead>\n",
       "  <tbody>\n",
       "    <tr>\n",
       "      <th>150500</th>\n",
       "      <td>150501</td>\n",
       "      <td>0006641040</td>\n",
       "      <td>AJ46FKXOVC7NR</td>\n",
       "      <td>Nicholas A Mesiano</td>\n",
       "      <td>2</td>\n",
       "      <td>2</td>\n",
       "      <td>1</td>\n",
       "      <td>940809600</td>\n",
       "      <td>This whole series is great way to spend time w...</td>\n",
       "      <td>I can remember seeing the show when it aired o...</td>\n",
       "    </tr>\n",
       "    <tr>\n",
       "      <th>150492</th>\n",
       "      <td>150493</td>\n",
       "      <td>0006641040</td>\n",
       "      <td>AMX0PJKV4PPNJ</td>\n",
       "      <td>E. R. Bird \"Ramseelbird\"</td>\n",
       "      <td>71</td>\n",
       "      <td>72</td>\n",
       "      <td>1</td>\n",
       "      <td>1096416000</td>\n",
       "      <td>Read it once. Read it twice. Reading Chicken S...</td>\n",
       "      <td>These days, when a person says, \"chicken soup\"...</td>\n",
       "    </tr>\n",
       "    <tr>\n",
       "      <th>150499</th>\n",
       "      <td>150500</td>\n",
       "      <td>0006641040</td>\n",
       "      <td>A1IJKK6Q1GTEAY</td>\n",
       "      <td>A Customer</td>\n",
       "      <td>2</td>\n",
       "      <td>2</td>\n",
       "      <td>1</td>\n",
       "      <td>1009324800</td>\n",
       "      <td>It Was a favorite!</td>\n",
       "      <td>This was a favorite book of mine when I was a ...</td>\n",
       "    </tr>\n",
       "    <tr>\n",
       "      <th>150498</th>\n",
       "      <td>150499</td>\n",
       "      <td>0006641040</td>\n",
       "      <td>A3E7R866M94L0C</td>\n",
       "      <td>L. Barker \"simienwolf\"</td>\n",
       "      <td>2</td>\n",
       "      <td>2</td>\n",
       "      <td>1</td>\n",
       "      <td>1065830400</td>\n",
       "      <td>Can't explain why</td>\n",
       "      <td>This book has been a favorite of mine since I ...</td>\n",
       "    </tr>\n",
       "    <tr>\n",
       "      <th>515425</th>\n",
       "      <td>515426</td>\n",
       "      <td>141278509X</td>\n",
       "      <td>AB1A5EGHHVA9M</td>\n",
       "      <td>CHelmic</td>\n",
       "      <td>1</td>\n",
       "      <td>1</td>\n",
       "      <td>1</td>\n",
       "      <td>1332547200</td>\n",
       "      <td>The best drink mix</td>\n",
       "      <td>This product by Archer Farms is the best drink...</td>\n",
       "    </tr>\n",
       "    <tr>\n",
       "      <th>24750</th>\n",
       "      <td>24751</td>\n",
       "      <td>2734888454</td>\n",
       "      <td>A1C298ITT645B6</td>\n",
       "      <td>Hugh G. Pritchard</td>\n",
       "      <td>0</td>\n",
       "      <td>0</td>\n",
       "      <td>1</td>\n",
       "      <td>1195948800</td>\n",
       "      <td>Dog Lover Delites</td>\n",
       "      <td>Our dogs just love them.  I saw them in a pet ...</td>\n",
       "    </tr>\n",
       "    <tr>\n",
       "      <th>24749</th>\n",
       "      <td>24750</td>\n",
       "      <td>2734888454</td>\n",
       "      <td>A13ISQV0U9GZIC</td>\n",
       "      <td>Sandikaye</td>\n",
       "      <td>1</td>\n",
       "      <td>1</td>\n",
       "      <td>0</td>\n",
       "      <td>1192060800</td>\n",
       "      <td>made in china</td>\n",
       "      <td>My dogs loves this chicken but its a product f...</td>\n",
       "    </tr>\n",
       "    <tr>\n",
       "      <th>308076</th>\n",
       "      <td>308077</td>\n",
       "      <td>2841233731</td>\n",
       "      <td>A3QD68O22M2XHQ</td>\n",
       "      <td>LABRNTH</td>\n",
       "      <td>0</td>\n",
       "      <td>0</td>\n",
       "      <td>1</td>\n",
       "      <td>1345852800</td>\n",
       "      <td>Great recipe book for my babycook</td>\n",
       "      <td>This book is easy to read and the ingredients ...</td>\n",
       "    </tr>\n",
       "    <tr>\n",
       "      <th>171160</th>\n",
       "      <td>171161</td>\n",
       "      <td>7310172001</td>\n",
       "      <td>AFXMWPNS1BLU4</td>\n",
       "      <td>H. Sandler</td>\n",
       "      <td>0</td>\n",
       "      <td>0</td>\n",
       "      <td>1</td>\n",
       "      <td>1229385600</td>\n",
       "      <td>Excellent treats</td>\n",
       "      <td>I have been feeding my greyhounds these treats...</td>\n",
       "    </tr>\n",
       "    <tr>\n",
       "      <th>171159</th>\n",
       "      <td>171160</td>\n",
       "      <td>7310172001</td>\n",
       "      <td>A74C7IARQEM1R</td>\n",
       "      <td>stucker</td>\n",
       "      <td>0</td>\n",
       "      <td>0</td>\n",
       "      <td>1</td>\n",
       "      <td>1230076800</td>\n",
       "      <td>Sophie's Treats</td>\n",
       "      <td>This is one product that my welsh terrier can ...</td>\n",
       "    </tr>\n",
       "    <tr>\n",
       "      <th>171143</th>\n",
       "      <td>171144</td>\n",
       "      <td>7310172001</td>\n",
       "      <td>A1V5MY8V9AWUQB</td>\n",
       "      <td>Cheryl Sapper \"champagne girl\"</td>\n",
       "      <td>0</td>\n",
       "      <td>0</td>\n",
       "      <td>1</td>\n",
       "      <td>1244764800</td>\n",
       "      <td>THE BEST healthy dog treat!</td>\n",
       "      <td>This is the ONLY dog treat that my Lhasa Apso ...</td>\n",
       "    </tr>\n",
       "    <tr>\n",
       "      <th>171142</th>\n",
       "      <td>171143</td>\n",
       "      <td>7310172001</td>\n",
       "      <td>A2SWO60IW01VPX</td>\n",
       "      <td>Sam</td>\n",
       "      <td>0</td>\n",
       "      <td>0</td>\n",
       "      <td>1</td>\n",
       "      <td>1252022400</td>\n",
       "      <td>My Alaskan Malamute Loves Them!!</td>\n",
       "      <td>These liver treas are phenomenal. When i recei...</td>\n",
       "    </tr>\n",
       "    <tr>\n",
       "      <th>171147</th>\n",
       "      <td>171148</td>\n",
       "      <td>7310172001</td>\n",
       "      <td>A3TFTWTG2CC1GA</td>\n",
       "      <td>J. Umphress</td>\n",
       "      <td>0</td>\n",
       "      <td>0</td>\n",
       "      <td>1</td>\n",
       "      <td>1240272000</td>\n",
       "      <td>Best treat ever!</td>\n",
       "      <td>This was the only treat my dog liked during ob...</td>\n",
       "    </tr>\n",
       "    <tr>\n",
       "      <th>171141</th>\n",
       "      <td>171142</td>\n",
       "      <td>7310172001</td>\n",
       "      <td>A2ZO1AYFVQYG44</td>\n",
       "      <td>Cindy Rellie \"Rellie\"</td>\n",
       "      <td>0</td>\n",
       "      <td>0</td>\n",
       "      <td>1</td>\n",
       "      <td>1254960000</td>\n",
       "      <td>my 12 year old maltese has always loved these</td>\n",
       "      <td>No waste , even if she is having a  day when s...</td>\n",
       "    </tr>\n",
       "    <tr>\n",
       "      <th>171140</th>\n",
       "      <td>171141</td>\n",
       "      <td>7310172001</td>\n",
       "      <td>AZ40270J4JBZN</td>\n",
       "      <td>Zhinka Chunmee \"gamer from way back in the 70's\"</td>\n",
       "      <td>0</td>\n",
       "      <td>0</td>\n",
       "      <td>1</td>\n",
       "      <td>1264291200</td>\n",
       "      <td>Dogs, Cats, Ferrets all love this</td>\n",
       "      <td>I wanted a treat that was accepted and well li...</td>\n",
       "    </tr>\n",
       "    <tr>\n",
       "      <th>171139</th>\n",
       "      <td>171140</td>\n",
       "      <td>7310172001</td>\n",
       "      <td>ADXXVGRCGQQUO</td>\n",
       "      <td>Richard Pearlstein</td>\n",
       "      <td>0</td>\n",
       "      <td>0</td>\n",
       "      <td>1</td>\n",
       "      <td>1264377600</td>\n",
       "      <td>5 snouts!</td>\n",
       "      <td>My Westie loves these things!  She loves anyth...</td>\n",
       "    </tr>\n",
       "    <tr>\n",
       "      <th>171138</th>\n",
       "      <td>171139</td>\n",
       "      <td>7310172001</td>\n",
       "      <td>A13MS1JQG2ADOJ</td>\n",
       "      <td>C. Perrone</td>\n",
       "      <td>0</td>\n",
       "      <td>0</td>\n",
       "      <td>1</td>\n",
       "      <td>1265760000</td>\n",
       "      <td>Best dog treat ever</td>\n",
       "      <td>This is the only dog treat that my terrier wil...</td>\n",
       "    </tr>\n",
       "    <tr>\n",
       "      <th>171137</th>\n",
       "      <td>171138</td>\n",
       "      <td>7310172001</td>\n",
       "      <td>A13LAE0YTXA11B</td>\n",
       "      <td>Dita Vyslouzilova \"dita\"</td>\n",
       "      <td>0</td>\n",
       "      <td>0</td>\n",
       "      <td>1</td>\n",
       "      <td>1269216000</td>\n",
       "      <td>Great for puppy training</td>\n",
       "      <td>New puppy loves this, only treat he will pay a...</td>\n",
       "    </tr>\n",
       "    <tr>\n",
       "      <th>171158</th>\n",
       "      <td>171159</td>\n",
       "      <td>7310172001</td>\n",
       "      <td>A16GY2RCF410DT</td>\n",
       "      <td>LB</td>\n",
       "      <td>0</td>\n",
       "      <td>0</td>\n",
       "      <td>1</td>\n",
       "      <td>1231718400</td>\n",
       "      <td>Great!</td>\n",
       "      <td>My dog loves these treats!  We started using t...</td>\n",
       "    </tr>\n",
       "    <tr>\n",
       "      <th>171144</th>\n",
       "      <td>171145</td>\n",
       "      <td>7310172001</td>\n",
       "      <td>A1L8DNQYY69L2Z</td>\n",
       "      <td>R. Flores</td>\n",
       "      <td>0</td>\n",
       "      <td>0</td>\n",
       "      <td>1</td>\n",
       "      <td>1243728000</td>\n",
       "      <td>Terrific Treats</td>\n",
       "      <td>This is a great treat which all three of my do...</td>\n",
       "    </tr>\n",
       "  </tbody>\n",
       "</table>\n",
       "</div>"
      ],
      "text/plain": [
       "            Id   ProductId          UserId  \\\n",
       "150500  150501  0006641040   AJ46FKXOVC7NR   \n",
       "150492  150493  0006641040   AMX0PJKV4PPNJ   \n",
       "150499  150500  0006641040  A1IJKK6Q1GTEAY   \n",
       "150498  150499  0006641040  A3E7R866M94L0C   \n",
       "515425  515426  141278509X   AB1A5EGHHVA9M   \n",
       "24750    24751  2734888454  A1C298ITT645B6   \n",
       "24749    24750  2734888454  A13ISQV0U9GZIC   \n",
       "308076  308077  2841233731  A3QD68O22M2XHQ   \n",
       "171160  171161  7310172001   AFXMWPNS1BLU4   \n",
       "171159  171160  7310172001   A74C7IARQEM1R   \n",
       "171143  171144  7310172001  A1V5MY8V9AWUQB   \n",
       "171142  171143  7310172001  A2SWO60IW01VPX   \n",
       "171147  171148  7310172001  A3TFTWTG2CC1GA   \n",
       "171141  171142  7310172001  A2ZO1AYFVQYG44   \n",
       "171140  171141  7310172001   AZ40270J4JBZN   \n",
       "171139  171140  7310172001   ADXXVGRCGQQUO   \n",
       "171138  171139  7310172001  A13MS1JQG2ADOJ   \n",
       "171137  171138  7310172001  A13LAE0YTXA11B   \n",
       "171158  171159  7310172001  A16GY2RCF410DT   \n",
       "171144  171145  7310172001  A1L8DNQYY69L2Z   \n",
       "\n",
       "                                             ProfileName  \\\n",
       "150500                                Nicholas A Mesiano   \n",
       "150492                          E. R. Bird \"Ramseelbird\"   \n",
       "150499                                        A Customer   \n",
       "150498                            L. Barker \"simienwolf\"   \n",
       "515425                                           CHelmic   \n",
       "24750                                  Hugh G. Pritchard   \n",
       "24749                                          Sandikaye   \n",
       "308076                                           LABRNTH   \n",
       "171160                                        H. Sandler   \n",
       "171159                                           stucker   \n",
       "171143                    Cheryl Sapper \"champagne girl\"   \n",
       "171142                                               Sam   \n",
       "171147                                       J. Umphress   \n",
       "171141                             Cindy Rellie \"Rellie\"   \n",
       "171140  Zhinka Chunmee \"gamer from way back in the 70's\"   \n",
       "171139                                Richard Pearlstein   \n",
       "171138                                        C. Perrone   \n",
       "171137                          Dita Vyslouzilova \"dita\"   \n",
       "171158                                                LB   \n",
       "171144                                         R. Flores   \n",
       "\n",
       "        HelpfulnessNumerator  HelpfulnessDenominator  Score        Time  \\\n",
       "150500                     2                       2      1   940809600   \n",
       "150492                    71                      72      1  1096416000   \n",
       "150499                     2                       2      1  1009324800   \n",
       "150498                     2                       2      1  1065830400   \n",
       "515425                     1                       1      1  1332547200   \n",
       "24750                      0                       0      1  1195948800   \n",
       "24749                      1                       1      0  1192060800   \n",
       "308076                     0                       0      1  1345852800   \n",
       "171160                     0                       0      1  1229385600   \n",
       "171159                     0                       0      1  1230076800   \n",
       "171143                     0                       0      1  1244764800   \n",
       "171142                     0                       0      1  1252022400   \n",
       "171147                     0                       0      1  1240272000   \n",
       "171141                     0                       0      1  1254960000   \n",
       "171140                     0                       0      1  1264291200   \n",
       "171139                     0                       0      1  1264377600   \n",
       "171138                     0                       0      1  1265760000   \n",
       "171137                     0                       0      1  1269216000   \n",
       "171158                     0                       0      1  1231718400   \n",
       "171144                     0                       0      1  1243728000   \n",
       "\n",
       "                                                  Summary  \\\n",
       "150500  This whole series is great way to spend time w...   \n",
       "150492  Read it once. Read it twice. Reading Chicken S...   \n",
       "150499                                 It Was a favorite!   \n",
       "150498                                  Can't explain why   \n",
       "515425                                 The best drink mix   \n",
       "24750                                   Dog Lover Delites   \n",
       "24749                                       made in china   \n",
       "308076                  Great recipe book for my babycook   \n",
       "171160                                   Excellent treats   \n",
       "171159                                    Sophie's Treats   \n",
       "171143                        THE BEST healthy dog treat!   \n",
       "171142                   My Alaskan Malamute Loves Them!!   \n",
       "171147                                   Best treat ever!   \n",
       "171141      my 12 year old maltese has always loved these   \n",
       "171140                  Dogs, Cats, Ferrets all love this   \n",
       "171139                                          5 snouts!   \n",
       "171138                                Best dog treat ever   \n",
       "171137                           Great for puppy training   \n",
       "171158                                             Great!   \n",
       "171144                                    Terrific Treats   \n",
       "\n",
       "                                                     Text  \n",
       "150500  I can remember seeing the show when it aired o...  \n",
       "150492  These days, when a person says, \"chicken soup\"...  \n",
       "150499  This was a favorite book of mine when I was a ...  \n",
       "150498  This book has been a favorite of mine since I ...  \n",
       "515425  This product by Archer Farms is the best drink...  \n",
       "24750   Our dogs just love them.  I saw them in a pet ...  \n",
       "24749   My dogs loves this chicken but its a product f...  \n",
       "308076  This book is easy to read and the ingredients ...  \n",
       "171160  I have been feeding my greyhounds these treats...  \n",
       "171159  This is one product that my welsh terrier can ...  \n",
       "171143  This is the ONLY dog treat that my Lhasa Apso ...  \n",
       "171142  These liver treas are phenomenal. When i recei...  \n",
       "171147  This was the only treat my dog liked during ob...  \n",
       "171141  No waste , even if she is having a  day when s...  \n",
       "171140  I wanted a treat that was accepted and well li...  \n",
       "171139  My Westie loves these things!  She loves anyth...  \n",
       "171138  This is the only dog treat that my terrier wil...  \n",
       "171137  New puppy loves this, only treat he will pay a...  \n",
       "171158  My dog loves these treats!  We started using t...  \n",
       "171144  This is a great treat which all three of my do...  "
      ]
     },
     "execution_count": 8,
     "metadata": {
      "tags": []
     },
     "output_type": "execute_result"
    }
   ],
   "source": [
    "#Sorting data according to ProductId in ascending order\n",
    "sorted_data=filtered_data.sort_values('ProductId', axis=0, ascending=True, inplace=False, kind='quicksort', na_position='last')\n",
    "\n",
    "#Deduplication of entries\n",
    "final=sorted_data.drop_duplicates(subset={\"UserId\",\"ProfileName\",\"Time\",\"Text\"}, keep='first', inplace=False)\n",
    "\n",
    "# Removing rows where HelpfulnessNumerator is greater than HelpfulnessDenominator\n",
    "final = final[final.HelpfulnessNumerator <= final.HelpfulnessDenominator]\n",
    "\n",
    "print(final.shape)\n",
    "final[30:50]"
   ]
  },
  {
   "cell_type": "markdown",
   "metadata": {
    "colab_type": "text",
    "id": "yLMrCaNL8m6s"
   },
   "source": [
    "OBSERVATION :- Here books with ProductId - 0006641040 and 2841233731 are also there so we have to remove all these rows with these ProductIds from the data"
   ]
  },
  {
   "cell_type": "code",
   "execution_count": 9,
   "metadata": {
    "colab": {
     "base_uri": "https://localhost:8080/",
     "height": 34
    },
    "colab_type": "code",
    "id": "RALy8jSO8smY",
    "outputId": "3967f2ae-41b9-4fdf-9f77-c34d24438b66"
   },
   "outputs": [
    {
     "data": {
      "text/plain": [
       "(364136, 10)"
      ]
     },
     "execution_count": 9,
     "metadata": {
      "tags": []
     },
     "output_type": "execute_result"
    }
   ],
   "source": [
    "final = final[final['ProductId'] != '2841233731']\n",
    "final = final[final['ProductId'] != '0006641040']\n",
    "final.shape"
   ]
  },
  {
   "cell_type": "markdown",
   "metadata": {
    "colab_type": "text",
    "id": "cfjf8O2i80eM"
   },
   "source": [
    "\n",
    "## Text Preprocessing: Stemming, stop-word removal and Lemmatization.¶\n"
   ]
  },
  {
   "cell_type": "code",
   "execution_count": 10,
   "metadata": {
    "colab": {
     "base_uri": "https://localhost:8080/",
     "height": 52
    },
    "colab_type": "code",
    "id": "VgP_Z3T685d9",
    "outputId": "d0b4ce68-405a-4944-fc1e-58b603786b74"
   },
   "outputs": [
    {
     "name": "stdout",
     "output_type": "stream",
     "text": [
      "[nltk_data] Downloading package stopwords to /root/nltk_data...\n",
      "[nltk_data]   Unzipping corpora/stopwords.zip.\n"
     ]
    }
   ],
   "source": [
    "# Downloading stopwords\n",
    "nltk.download('stopwords')\n",
    "\n",
    "#set of stopwords in English\n",
    "from nltk.corpus import stopwords\n",
    "stop = set(stopwords.words('english'))\n",
    "words_to_keep = set(('not'))\n",
    "stop -= words_to_keep\n",
    "#initialising the snowball stemmer\n",
    "sno = nltk.stem.SnowballStemmer('english')\n",
    "\n",
    " #function to clean the word of any html-tags\n",
    "def cleanhtml(sentence):\n",
    "    cleanr = re.compile('<.*?>')\n",
    "    cleantext = re.sub(cleanr, ' ', sentence)\n",
    "    return cleantext\n",
    "\n",
    "#function to clean the word of any punctuation or special characters\n",
    "def cleanpunc(sentence): \n",
    "    cleaned = re.sub(r'[?|!|\\'|\"|#]',r'',sentence)\n",
    "    cleaned = re.sub(r'[.|,|)|(|\\|/]',r' ',cleaned)\n",
    "    return  cleaned"
   ]
  },
  {
   "cell_type": "code",
   "execution_count": 0,
   "metadata": {
    "colab": {},
    "colab_type": "code",
    "id": "QoRp-CcU9Q_0"
   },
   "outputs": [],
   "source": [
    "#Code for removing HTML tags , punctuations . Code for removing stopwords . Code for checking if word is not alphanumeric and\n",
    "# also greater than 2 . Code for stemmimg and also to convert them to lowercase letters \n",
    "i=0\n",
    "str1=' '\n",
    "final_string=[]\n",
    "all_positive_words=[] # store words from +ve reviews here\n",
    "all_negative_words=[] # store words from -ve reviews here.\n",
    "s=''\n",
    "for sent in final['Text'].values:\n",
    "    filtered_sentence=[]\n",
    "    #print(sent);\n",
    "    sent=cleanhtml(sent) # remove HTMl tags\n",
    "    for w in sent.split():\n",
    "        for cleaned_words in cleanpunc(w).split():\n",
    "            if((cleaned_words.isalpha()) & (len(cleaned_words)>2)):    \n",
    "                if(cleaned_words.lower() not in stop):\n",
    "                    s=(sno.stem(cleaned_words.lower())).encode('utf8')\n",
    "                    filtered_sentence.append(s)\n",
    "                    if (final['Score'].values)[i] == 1: \n",
    "                        all_positive_words.append(s) #list of all words used to describe positive reviews\n",
    "                    if(final['Score'].values)[i] == 0:\n",
    "                        all_negative_words.append(s) #list of all words used to describe negative reviews reviews\n",
    "                else:\n",
    "                    continue\n",
    "            else:\n",
    "                continue \n",
    "    \n",
    "    str1 = b\" \".join(filtered_sentence) #final string of cleaned words\n",
    "    \n",
    "    \n",
    "    final_string.append(str1)\n",
    "    i+=1"
   ]
  },
  {
   "cell_type": "code",
   "execution_count": 12,
   "metadata": {
    "colab": {
     "base_uri": "https://localhost:8080/",
     "height": 616
    },
    "colab_type": "code",
    "id": "MevoV6b79pQE",
    "outputId": "e5df97a1-6dcd-4485-f96b-6efe26c9050c"
   },
   "outputs": [
    {
     "name": "stdout",
     "output_type": "stream",
     "text": [
      "Shape of final (364136, 11)\n"
     ]
    },
    {
     "data": {
      "text/html": [
       "<div>\n",
       "<style scoped>\n",
       "    .dataframe tbody tr th:only-of-type {\n",
       "        vertical-align: middle;\n",
       "    }\n",
       "\n",
       "    .dataframe tbody tr th {\n",
       "        vertical-align: top;\n",
       "    }\n",
       "\n",
       "    .dataframe thead th {\n",
       "        text-align: right;\n",
       "    }\n",
       "</style>\n",
       "<table border=\"1\" class=\"dataframe\">\n",
       "  <thead>\n",
       "    <tr style=\"text-align: right;\">\n",
       "      <th></th>\n",
       "      <th>Id</th>\n",
       "      <th>ProductId</th>\n",
       "      <th>UserId</th>\n",
       "      <th>ProfileName</th>\n",
       "      <th>HelpfulnessNumerator</th>\n",
       "      <th>HelpfulnessDenominator</th>\n",
       "      <th>Score</th>\n",
       "      <th>Time</th>\n",
       "      <th>Summary</th>\n",
       "      <th>Text</th>\n",
       "      <th>CleanedText</th>\n",
       "    </tr>\n",
       "  </thead>\n",
       "  <tbody>\n",
       "    <tr>\n",
       "      <th>515425</th>\n",
       "      <td>515426</td>\n",
       "      <td>141278509X</td>\n",
       "      <td>AB1A5EGHHVA9M</td>\n",
       "      <td>CHelmic</td>\n",
       "      <td>1</td>\n",
       "      <td>1</td>\n",
       "      <td>1</td>\n",
       "      <td>1332547200</td>\n",
       "      <td>The best drink mix</td>\n",
       "      <td>This product by Archer Farms is the best drink...</td>\n",
       "      <td>product archer farm best drink mix ever mix fl...</td>\n",
       "    </tr>\n",
       "    <tr>\n",
       "      <th>24750</th>\n",
       "      <td>24751</td>\n",
       "      <td>2734888454</td>\n",
       "      <td>A1C298ITT645B6</td>\n",
       "      <td>Hugh G. Pritchard</td>\n",
       "      <td>0</td>\n",
       "      <td>0</td>\n",
       "      <td>1</td>\n",
       "      <td>1195948800</td>\n",
       "      <td>Dog Lover Delites</td>\n",
       "      <td>Our dogs just love them.  I saw them in a pet ...</td>\n",
       "      <td>dog love saw pet store tag attach regard made ...</td>\n",
       "    </tr>\n",
       "    <tr>\n",
       "      <th>24749</th>\n",
       "      <td>24750</td>\n",
       "      <td>2734888454</td>\n",
       "      <td>A13ISQV0U9GZIC</td>\n",
       "      <td>Sandikaye</td>\n",
       "      <td>1</td>\n",
       "      <td>1</td>\n",
       "      <td>0</td>\n",
       "      <td>1192060800</td>\n",
       "      <td>made in china</td>\n",
       "      <td>My dogs loves this chicken but its a product f...</td>\n",
       "      <td>dog love chicken product china wont buy anymor...</td>\n",
       "    </tr>\n",
       "    <tr>\n",
       "      <th>171160</th>\n",
       "      <td>171161</td>\n",
       "      <td>7310172001</td>\n",
       "      <td>AFXMWPNS1BLU4</td>\n",
       "      <td>H. Sandler</td>\n",
       "      <td>0</td>\n",
       "      <td>0</td>\n",
       "      <td>1</td>\n",
       "      <td>1229385600</td>\n",
       "      <td>Excellent treats</td>\n",
       "      <td>I have been feeding my greyhounds these treats...</td>\n",
       "      <td>feed greyhound treat year hound littl finicki ...</td>\n",
       "    </tr>\n",
       "    <tr>\n",
       "      <th>171159</th>\n",
       "      <td>171160</td>\n",
       "      <td>7310172001</td>\n",
       "      <td>A74C7IARQEM1R</td>\n",
       "      <td>stucker</td>\n",
       "      <td>0</td>\n",
       "      <td>0</td>\n",
       "      <td>1</td>\n",
       "      <td>1230076800</td>\n",
       "      <td>Sophie's Treats</td>\n",
       "      <td>This is one product that my welsh terrier can ...</td>\n",
       "      <td>one product welsh terrier eat sophi food alerg...</td>\n",
       "    </tr>\n",
       "  </tbody>\n",
       "</table>\n",
       "</div>"
      ],
      "text/plain": [
       "            Id   ProductId          UserId        ProfileName  \\\n",
       "515425  515426  141278509X   AB1A5EGHHVA9M            CHelmic   \n",
       "24750    24751  2734888454  A1C298ITT645B6  Hugh G. Pritchard   \n",
       "24749    24750  2734888454  A13ISQV0U9GZIC          Sandikaye   \n",
       "171160  171161  7310172001   AFXMWPNS1BLU4         H. Sandler   \n",
       "171159  171160  7310172001   A74C7IARQEM1R            stucker   \n",
       "\n",
       "        HelpfulnessNumerator  HelpfulnessDenominator  Score        Time  \\\n",
       "515425                     1                       1      1  1332547200   \n",
       "24750                      0                       0      1  1195948800   \n",
       "24749                      1                       1      0  1192060800   \n",
       "171160                     0                       0      1  1229385600   \n",
       "171159                     0                       0      1  1230076800   \n",
       "\n",
       "                   Summary                                               Text  \\\n",
       "515425  The best drink mix  This product by Archer Farms is the best drink...   \n",
       "24750    Dog Lover Delites  Our dogs just love them.  I saw them in a pet ...   \n",
       "24749        made in china  My dogs loves this chicken but its a product f...   \n",
       "171160    Excellent treats  I have been feeding my greyhounds these treats...   \n",
       "171159     Sophie's Treats  This is one product that my welsh terrier can ...   \n",
       "\n",
       "                                              CleanedText  \n",
       "515425  product archer farm best drink mix ever mix fl...  \n",
       "24750   dog love saw pet store tag attach regard made ...  \n",
       "24749   dog love chicken product china wont buy anymor...  \n",
       "171160  feed greyhound treat year hound littl finicki ...  \n",
       "171159  one product welsh terrier eat sophi food alerg...  "
      ]
     },
     "execution_count": 12,
     "metadata": {
      "tags": []
     },
     "output_type": "execute_result"
    }
   ],
   "source": [
    "#adding a column of CleanedText which displays the data after pre-processing of the review\n",
    "final['CleanedText']=final_string  \n",
    "final['CleanedText']=final['CleanedText'].str.decode(\"utf-8\")\n",
    "#below the processed review can be seen in the CleanedText Column \n",
    "print('Shape of final',final.shape)\n",
    "final.head()"
   ]
  },
  {
   "cell_type": "markdown",
   "metadata": {
    "colab_type": "text",
    "id": "4G-Ma7WV_9p7"
   },
   "source": [
    "## Converting this data as IMDB dataset"
   ]
  },
  {
   "cell_type": "code",
   "execution_count": 13,
   "metadata": {
    "colab": {
     "base_uri": "https://localhost:8080/",
     "height": 34
    },
    "colab_type": "code",
    "id": "DbRJgfNn_07Z",
    "outputId": "92e17626-236e-4dec-a537-0b07a309ad67"
   },
   "outputs": [
    {
     "name": "stdout",
     "output_type": "stream",
     "text": [
      "No. of words in the Vocabulary :  71611\n"
     ]
    }
   ],
   "source": [
    "##Sorting data according to Time in ascending order for Time Based Splitting\n",
    "time_sorted_data = final.sort_values('Time', axis=0, ascending=True, inplace=False, kind='quicksort', na_position='last')\n",
    "\n",
    "x = time_sorted_data['CleanedText'].values\n",
    "y = time_sorted_data['Score']\n",
    "\n",
    "# Finding all words in the vocabulary\n",
    "count_vect = CountVectorizer() \n",
    "count_vect.fit(x)\n",
    "\n",
    "vocabulary = count_vect.get_feature_names()\n",
    "print('No. of words in the Vocabulary : ',len(vocabulary))"
   ]
  },
  {
   "cell_type": "code",
   "execution_count": 0,
   "metadata": {
    "colab": {},
    "colab_type": "code",
    "id": "t1kFVVm-BXPj"
   },
   "outputs": [],
   "source": [
    "# Storing all words in the dictionary (words as keys and index as values)\n",
    "corpus = dict()\n",
    "ind = 0\n",
    "for sent in x:\n",
    "  for word in sent.split():\n",
    "    corpus.setdefault(word,[])\n",
    "    corpus[word].append(ind)\n",
    "    ind += 1\n",
    "\n",
    "# Getting frequency for each word of vocabulary and storing it in a list\n",
    "freq = []\n",
    "for w in vocabulary:\n",
    "  freq.append(len(corpus[w]))\n"
   ]
  },
  {
   "cell_type": "code",
   "execution_count": 0,
   "metadata": {
    "colab": {},
    "colab_type": "code",
    "id": "e82AEvbWI9nC"
   },
   "outputs": [],
   "source": [
    "# Getting Index for each word in the vocabulary\n",
    "# Sorting frequencies in decreasing order\n",
    "inc_index =np.argsort(np.array(freq))[::-1]\n",
    "\n",
    "# Allocating ranks to words of vocabulary in decreasing order of frequency and storing words in a dictionary\n",
    "word_rank = dict()\n",
    "rank = 1\n",
    "for i in inc_index:\n",
    "  word_rank[vocabulary[i]] = rank\n",
    "  rank +=1  "
   ]
  },
  {
   "cell_type": "code",
   "execution_count": 0,
   "metadata": {
    "colab": {},
    "colab_type": "code",
    "id": "vAFslIO0OFTi"
   },
   "outputs": [],
   "source": [
    "# Converting full data into imdb format\n",
    "data = []\n",
    "for sent in x:\n",
    "  row = []\n",
    "  for word in sent.split():\n",
    "    if(len(word)>1):\n",
    "      row.append(word_rank[word])\n",
    "  data.append(row)\n",
    "\n",
    "# Splitting the data into 50-50 train_data and test_data\n",
    "from sklearn.model_selection import train_test_split \n",
    "X_train, X_test, Y_train, Y_test = train_test_split(data, y, test_size=0.5, random_state=42)    "
   ]
  },
  {
   "cell_type": "code",
   "execution_count": 17,
   "metadata": {
    "colab": {
     "base_uri": "https://localhost:8080/",
     "height": 86
    },
    "colab_type": "code",
    "id": "k83hilU7JQVk",
    "outputId": "d9456dc0-84c3-4163-ae85-05e30c78e087"
   },
   "outputs": [
    {
     "name": "stdout",
     "output_type": "stream",
     "text": [
      "No. of datapoints in X_train : 182068\n",
      "No. of datapoints in X_test : 182068\n",
      "Shape of Y_train : (182068,)\n",
      "Shape of Y_test : (182068,)\n"
     ]
    }
   ],
   "source": [
    "print(\"No. of datapoints in X_train :\",len(X_train))\n",
    "print(\"No. of datapoints in X_test :\",len(X_test))\n",
    "print(\"Shape of Y_train :\",Y_train.shape)\n",
    "print(\"Shape of Y_test :\",Y_test.shape)"
   ]
  },
  {
   "cell_type": "code",
   "execution_count": 18,
   "metadata": {
    "colab": {
     "base_uri": "https://localhost:8080/",
     "height": 34
    },
    "colab_type": "code",
    "id": "M03jZ65gctMs",
    "outputId": "2edb7b1f-a614-41f2-c833-6e28d528ad2e"
   },
   "outputs": [
    {
     "name": "stderr",
     "output_type": "stream",
     "text": [
      "Using TensorFlow backend.\n"
     ]
    }
   ],
   "source": [
    "# Importing libraries\n",
    "from keras.models import Sequential\n",
    "from keras.layers import Dense\n",
    "from keras.layers import LSTM\n",
    "from keras.layers.embeddings import Embedding\n",
    "from keras.preprocessing import sequence\n",
    "from keras.layers import Dropout\n",
    "# fix random seed for reproducibility\n",
    "np.random.seed(7)"
   ]
  },
  {
   "cell_type": "code",
   "execution_count": 19,
   "metadata": {
    "colab": {
     "base_uri": "https://localhost:8080/",
     "height": 138
    },
    "colab_type": "code",
    "id": "DnaAjRkic_ui",
    "outputId": "da35c99a-3703-4169-fb05-6fc4458f6114"
   },
   "outputs": [
    {
     "name": "stdout",
     "output_type": "stream",
     "text": [
      "(182068, 100)\n",
      "[  0   0   0   0   0   0   0   0   0   0   0   0   0   0   0   0   0   0\n",
      "   0   0   0   0   0   0   0   0   0   0   0   0   0   0   0   0   0   0\n",
      "   0   0   0   0   0   0   0   0   0   0   0   0   0   0   0   0   0   0\n",
      "   0   0   0   0   0   0   0   0   0   0   0   0   0   0   0   0   0   0\n",
      "   0   0   0   0   0   0   0   0   0   0   0   0   0   0   0   0   0 152\n",
      "  30 241  93 877 313 117  14 329  47  67]\n"
     ]
    }
   ],
   "source": [
    "# truncate and/or pad input sequences\n",
    "max_review_length = 100\n",
    "X_train = sequence.pad_sequences(X_train, maxlen=max_review_length)\n",
    "X_test = sequence.pad_sequences(X_test, maxlen=max_review_length)\n",
    "\n",
    "print(X_train.shape)\n",
    "print(X_train[1])"
   ]
  },
  {
   "cell_type": "code",
   "execution_count": 0,
   "metadata": {
    "colab": {},
    "colab_type": "code",
    "id": "Y_9306Ced2B7"
   },
   "outputs": [],
   "source": [
    "# this function is used draw Binary Crossentropy Loss VS No. of epochs plot\n",
    "def plt_dynamic(x, vy, ty):\n",
    "  plt.figure(figsize=(10,5))\n",
    "  plt.plot(x, vy, 'b', label=\"Validation Loss\")\n",
    "  plt.plot(x, ty, 'r', label=\"Train Loss\")\n",
    "  plt.xlabel('Epochs') \n",
    "  plt.ylabel('Binary Crossentropy Loss')\n",
    "  plt.title('\\nBinary Crossentropy Loss VS Epochs')\n",
    "  plt.legend()\n",
    "  plt.grid()\n",
    "  plt.show()"
   ]
  },
  {
   "cell_type": "markdown",
   "metadata": {
    "colab_type": "text",
    "id": "6IQIDAi2dk1-"
   },
   "source": [
    "## (1) RNN with 1 LSTM layer"
   ]
  },
  {
   "cell_type": "code",
   "execution_count": 22,
   "metadata": {
    "colab": {
     "base_uri": "https://localhost:8080/",
     "height": 691
    },
    "colab_type": "code",
    "id": "8l9ZsJ_xeIb4",
    "outputId": "5733be76-f496-4e0e-cc58-828819554dae"
   },
   "outputs": [
    {
     "name": "stdout",
     "output_type": "stream",
     "text": [
      "_________________________________________________________________\n",
      "Layer (type)                 Output Shape              Param #   \n",
      "=================================================================\n",
      "embedding_2 (Embedding)      (None, 100, 32)           2291552   \n",
      "_________________________________________________________________\n",
      "dropout_3 (Dropout)          (None, 100, 32)           0         \n",
      "_________________________________________________________________\n",
      "lstm_2 (LSTM)                (None, 100)               53200     \n",
      "_________________________________________________________________\n",
      "dropout_4 (Dropout)          (None, 100)               0         \n",
      "_________________________________________________________________\n",
      "dense_2 (Dense)              (None, 1)                 101       \n",
      "=================================================================\n",
      "Total params: 2,344,853\n",
      "Trainable params: 2,344,853\n",
      "Non-trainable params: 0\n",
      "_________________________________________________________________\n",
      "None\n",
      "Train on 182068 samples, validate on 182068 samples\n",
      "Epoch 1/10\n",
      "182068/182068 [==============================] - 105s 577us/step - loss: 0.2643 - acc: 0.8981 - val_loss: 0.2042 - val_acc: 0.9207\n",
      "Epoch 2/10\n",
      "182068/182068 [==============================] - 104s 574us/step - loss: 0.1818 - acc: 0.9295 - val_loss: 0.1978 - val_acc: 0.9229\n",
      "Epoch 3/10\n",
      "182068/182068 [==============================] - 104s 574us/step - loss: 0.1671 - acc: 0.9357 - val_loss: 0.1945 - val_acc: 0.9235\n",
      "Epoch 4/10\n",
      "182068/182068 [==============================] - 103s 567us/step - loss: 0.1565 - acc: 0.9399 - val_loss: 0.1989 - val_acc: 0.9231\n",
      "Epoch 5/10\n",
      "182068/182068 [==============================] - 103s 564us/step - loss: 0.1477 - acc: 0.9433 - val_loss: 0.2124 - val_acc: 0.9192\n",
      "Epoch 6/10\n",
      "182068/182068 [==============================] - 103s 563us/step - loss: 0.1379 - acc: 0.9473 - val_loss: 0.2099 - val_acc: 0.9219\n",
      "Epoch 7/10\n",
      "182068/182068 [==============================] - 103s 564us/step - loss: 0.1279 - acc: 0.9516 - val_loss: 0.2112 - val_acc: 0.9212\n",
      "Epoch 8/10\n",
      "182068/182068 [==============================] - 102s 562us/step - loss: 0.1188 - acc: 0.9550 - val_loss: 0.2133 - val_acc: 0.9197\n",
      "Epoch 9/10\n",
      "182068/182068 [==============================] - 102s 563us/step - loss: 0.1109 - acc: 0.9582 - val_loss: 0.2394 - val_acc: 0.9183\n",
      "Epoch 10/10\n",
      "182068/182068 [==============================] - 103s 564us/step - loss: 0.1034 - acc: 0.9613 - val_loss: 0.2300 - val_acc: 0.9193\n"
     ]
    }
   ],
   "source": [
    "# create the model\n",
    "embedding_vecor_length = 32\n",
    "\n",
    "# Initialising the model\n",
    "model_1 = Sequential()\n",
    "\n",
    "# Adding embedding\n",
    "model_1.add(Embedding(len(vocabulary), embedding_vecor_length, input_length=max_review_length))\n",
    "\n",
    "# Adding Dropout\n",
    "model_1.add(Dropout(0.2))\n",
    "\n",
    "# Adding first LSTM layer\n",
    "model_1.add(LSTM(100))\n",
    "\n",
    "# Adding Dropout\n",
    "model_1.add(Dropout(0.2))\n",
    "\n",
    "# Adding output layer\n",
    "model_1.add(Dense(1, activation='sigmoid'))\n",
    "\n",
    "# Printing the model summary\n",
    "print(model_1.summary())\n",
    "\n",
    "# Compiling the model\n",
    "model_1.compile(loss='binary_crossentropy', optimizer='adam', metrics=['accuracy'])\n",
    "\n",
    "# Fitting the data to the model\n",
    "history_1 = model_1.fit(X_train, Y_train, nb_epoch=10, batch_size=512 ,verbose=1,validation_data=(X_test, Y_test))\n",
    "\n"
   ]
  },
  {
   "cell_type": "code",
   "execution_count": 23,
   "metadata": {
    "colab": {
     "base_uri": "https://localhost:8080/",
     "height": 381
    },
    "colab_type": "code",
    "id": "tugwxXzEgfp1",
    "outputId": "649b54a2-1d36-47f4-f548-3a4688325145"
   },
   "outputs": [
    {
     "name": "stdout",
     "output_type": "stream",
     "text": [
      "Accuracy: 91.93%\n"
     ]
    },
    {
     "data": {
      "image/png": "[encoded data removed]",
      "text/plain": [
       "<matplotlib.figure.Figure at 0x7fa46055fac8>"
      ]
     },
     "metadata": {
      "tags": []
     },
     "output_type": "display_data"
    }
   ],
   "source": [
    "# Final evaluation of the model\n",
    "scores = model_1.evaluate(X_test, Y_test, verbose=0)\n",
    "print(\"Accuracy: %.2f%%\" % (scores[1]*100))\n",
    "\n",
    "# Test and train accuracy of the model\n",
    "model_1_test = scores[1]\n",
    "model_1_train = max(history_1.history['acc'])\n",
    "\n",
    "# Plotting Train and Test Loss VS no. of epochs\n",
    "# list of epoch numbers\n",
    "x = list(range(1,11))\n",
    "\n",
    "# Validation loss\n",
    "vy = history_1.history['val_loss']\n",
    "# Training loss\n",
    "ty = history_1.history['loss']\n",
    "\n",
    "# Calling the function to draw the plot\n",
    "plt_dynamic(x, vy, ty)"
   ]
  },
  {
   "cell_type": "markdown",
   "metadata": {
    "colab_type": "text",
    "id": "zh8VHBorpqYc"
   },
   "source": [
    "## (2). RNN with 2 LSTM layers"
   ]
  },
  {
   "cell_type": "code",
   "execution_count": 24,
   "metadata": {
    "colab": {
     "base_uri": "https://localhost:8080/",
     "height": 656
    },
    "colab_type": "code",
    "id": "uWbWmS25px58",
    "outputId": "25fcd7db-90df-487e-b821-9315e7e5f468"
   },
   "outputs": [
    {
     "name": "stdout",
     "output_type": "stream",
     "text": [
      "_________________________________________________________________\n",
      "Layer (type)                 Output Shape              Param #   \n",
      "=================================================================\n",
      "embedding_3 (Embedding)      (None, 100, 32)           2291552   \n",
      "_________________________________________________________________\n",
      "lstm_3 (LSTM)                (None, 100, 100)          53200     \n",
      "_________________________________________________________________\n",
      "lstm_4 (LSTM)                (None, 100)               80400     \n",
      "_________________________________________________________________\n",
      "dense_3 (Dense)              (None, 1)                 101       \n",
      "=================================================================\n",
      "Total params: 2,425,253\n",
      "Trainable params: 2,425,253\n",
      "Non-trainable params: 0\n",
      "_________________________________________________________________\n",
      "None\n",
      "Train on 182068 samples, validate on 182068 samples\n",
      "Epoch 1/10\n",
      "182068/182068 [==============================] - 241s 1ms/step - loss: 0.2771 - acc: 0.8941 - val_loss: 0.2046 - val_acc: 0.9198\n",
      "Epoch 2/10\n",
      "182068/182068 [==============================] - 239s 1ms/step - loss: 0.1958 - acc: 0.9242 - val_loss: 0.1984 - val_acc: 0.9219\n",
      "Epoch 3/10\n",
      "182068/182068 [==============================] - 237s 1ms/step - loss: 0.1795 - acc: 0.9313 - val_loss: 0.2000 - val_acc: 0.9224\n",
      "Epoch 4/10\n",
      "182068/182068 [==============================] - 236s 1ms/step - loss: 0.1693 - acc: 0.9354 - val_loss: 0.2020 - val_acc: 0.9229\n",
      "Epoch 5/10\n",
      "182068/182068 [==============================] - 237s 1ms/step - loss: 0.1620 - acc: 0.9380 - val_loss: 0.2017 - val_acc: 0.9228\n",
      "Epoch 6/10\n",
      "182068/182068 [==============================] - 237s 1ms/step - loss: 0.1558 - acc: 0.9403 - val_loss: 0.2001 - val_acc: 0.9223\n",
      "Epoch 7/10\n",
      "182068/182068 [==============================] - 234s 1ms/step - loss: 0.1502 - acc: 0.9430 - val_loss: 0.2042 - val_acc: 0.9224\n",
      "Epoch 8/10\n",
      "182068/182068 [==============================] - 241s 1ms/step - loss: 0.1448 - acc: 0.9449 - val_loss: 0.2104 - val_acc: 0.9185\n",
      "Epoch 9/10\n",
      "182068/182068 [==============================] - 239s 1ms/step - loss: 0.1389 - acc: 0.9477 - val_loss: 0.2124 - val_acc: 0.9203\n",
      "Epoch 10/10\n",
      "182068/182068 [==============================] - 238s 1ms/step - loss: 0.1338 - acc: 0.9493 - val_loss: 0.2191 - val_acc: 0.9197\n"
     ]
    }
   ],
   "source": [
    "# create the model\n",
    "embedding_vecor_length = 32\n",
    "\n",
    "# Initialising the model\n",
    "model_2 = Sequential()\n",
    "\n",
    "# Adding embedding\n",
    "model_2.add(Embedding(len(vocabulary), embedding_vecor_length, input_length=max_review_length))\n",
    "\n",
    "# Adding first LSTM layer\n",
    "model_2.add(LSTM(100,return_sequences=True, dropout=0.4, recurrent_dropout=0.4))\n",
    "\n",
    "# Adding second LSTM layer\n",
    "model_2.add(LSTM(100, dropout=0.4, recurrent_dropout=0.4))\n",
    "\n",
    "# Adding output layer\n",
    "model_2.add(Dense(1, activation='sigmoid'))\n",
    "\n",
    "# Printing the model summary\n",
    "print(model_2.summary())\n",
    "\n",
    "# Compiling the model\n",
    "model_2.compile(loss='binary_crossentropy', optimizer='adam', metrics=['accuracy'])\n",
    "\n",
    "# Fitting the data to the model\n",
    "history_2 = model_2.fit(X_train, Y_train, nb_epoch=10, batch_size=512 ,verbose=1,validation_data=(X_test, Y_test))"
   ]
  },
  {
   "cell_type": "code",
   "execution_count": 25,
   "metadata": {
    "colab": {
     "base_uri": "https://localhost:8080/",
     "height": 381
    },
    "colab_type": "code",
    "id": "pQz6tMLDqW8-",
    "outputId": "aa6b4243-a761-4777-c106-bc7efb8c5695"
   },
   "outputs": [
    {
     "name": "stdout",
     "output_type": "stream",
     "text": [
      "Accuracy: 91.97%\n"
     ]
    },
    {
     "data": {
      "image/png": "[encoded data removed]",
      "text/plain": [
       "<matplotlib.figure.Figure at 0x7fa45c04ecf8>"
      ]
     },
     "metadata": {
      "tags": []
     },
     "output_type": "display_data"
    }
   ],
   "source": [
    "# Final evaluation of the model\n",
    "scores = model_2.evaluate(X_test, Y_test, verbose=0)\n",
    "print(\"Accuracy: %.2f%%\" % (scores[1]*100))\n",
    "\n",
    "# Test and train accuracy of the model\n",
    "model_2_test = scores[1]\n",
    "model_2_train = max(history_2.history['acc'])\n",
    "\n",
    "# Plotting Train and Test Loss VS no. of epochs\n",
    "# list of epoch numbers\n",
    "x = list(range(1,11))\n",
    "\n",
    "# Validation loss\n",
    "vy = history_2.history['val_loss']\n",
    "# Training loss\n",
    "ty = history_2.history['loss']\n",
    "\n",
    "# Calling the function to draw the plot\n",
    "plt_dynamic(x, vy, ty)"
   ]
  },
  {
   "cell_type": "markdown",
   "metadata": {
    "colab_type": "text",
    "id": "rkm43qj75YE0"
   },
   "source": [
    "## (3). RNN with 3 LSTM layers"
   ]
  },
  {
   "cell_type": "code",
   "execution_count": 27,
   "metadata": {
    "colab": {
     "base_uri": "https://localhost:8080/",
     "height": 587
    },
    "colab_type": "code",
    "id": "XC2OX8Jp5ere",
    "outputId": "cad5929a-e684-4181-e91e-6e3596fe9de3"
   },
   "outputs": [
    {
     "name": "stdout",
     "output_type": "stream",
     "text": [
      "_________________________________________________________________\n",
      "Layer (type)                 Output Shape              Param #   \n",
      "=================================================================\n",
      "embedding_5 (Embedding)      (None, 100, 32)           2291552   \n",
      "_________________________________________________________________\n",
      "lstm_8 (LSTM)                (None, 100, 100)          53200     \n",
      "_________________________________________________________________\n",
      "lstm_9 (LSTM)                (None, 100, 100)          80400     \n",
      "_________________________________________________________________\n",
      "lstm_10 (LSTM)               (None, 100)               80400     \n",
      "_________________________________________________________________\n",
      "dense_5 (Dense)              (None, 1)                 101       \n",
      "=================================================================\n",
      "Total params: 2,505,653\n",
      "Trainable params: 2,505,653\n",
      "Non-trainable params: 0\n",
      "_________________________________________________________________\n",
      "None\n",
      "Train on 182068 samples, validate on 182068 samples\n",
      "Epoch 1/7\n",
      "182068/182068 [==============================] - 195s 1ms/step - loss: 0.3176 - acc: 0.8799 - val_loss: 0.2191 - val_acc: 0.9131\n",
      "Epoch 2/7\n",
      "182068/182068 [==============================] - 190s 1ms/step - loss: 0.2041 - acc: 0.9215 - val_loss: 0.2040 - val_acc: 0.9208\n",
      "Epoch 3/7\n",
      "182068/182068 [==============================] - 190s 1ms/step - loss: 0.1849 - acc: 0.9294 - val_loss: 0.2019 - val_acc: 0.9224\n",
      "Epoch 4/7\n",
      "182068/182068 [==============================] - 190s 1ms/step - loss: 0.1736 - acc: 0.9344 - val_loss: 0.2044 - val_acc: 0.9224\n",
      "Epoch 5/7\n",
      "182068/182068 [==============================] - 190s 1ms/step - loss: 0.1655 - acc: 0.9377 - val_loss: 0.2092 - val_acc: 0.9223\n",
      "Epoch 6/7\n",
      "182068/182068 [==============================] - 190s 1ms/step - loss: 0.1604 - acc: 0.9399 - val_loss: 0.2045 - val_acc: 0.9212\n",
      "Epoch 7/7\n",
      "182068/182068 [==============================] - 190s 1ms/step - loss: 0.1552 - acc: 0.9419 - val_loss: 0.2076 - val_acc: 0.9217\n"
     ]
    }
   ],
   "source": [
    "# create the model\n",
    "embedding_vecor_length = 32\n",
    "\n",
    "# Initialising the model\n",
    "model_3 = Sequential()\n",
    "\n",
    "# Adding embedding\n",
    "model_3.add(Embedding(len(vocabulary), embedding_vecor_length, input_length=max_review_length))\n",
    "\n",
    "# Adding first LSTM layer\n",
    "model_3.add(LSTM(100,return_sequences=True, dropout=0.4, recurrent_dropout=0.4))\n",
    "\n",
    "# Adding second LSTM layer\n",
    "model_3.add(LSTM(100,return_sequences=True, dropout=0.5, recurrent_dropout=0.5))\n",
    "\n",
    "# Adding third LSTM layer\n",
    "model_3.add(LSTM(100, dropout=0.4, recurrent_dropout=0.4))\n",
    "\n",
    "# Adding output layer\n",
    "model_3.add(Dense(1, activation='sigmoid'))\n",
    "\n",
    "# Printing the model summary\n",
    "print(model_3.summary())\n",
    "\n",
    "# Compiling the model\n",
    "model_3.compile(loss='binary_crossentropy', optimizer='adam', metrics=['accuracy'])\n",
    "\n",
    "# Fitting the data to the model\n",
    "history_3 = model_3.fit(X_train, Y_train, nb_epoch=7, batch_size=1024 ,verbose=1,validation_data=(X_test, Y_test))"
   ]
  },
  {
   "cell_type": "code",
   "execution_count": 28,
   "metadata": {
    "colab": {
     "base_uri": "https://localhost:8080/",
     "height": 381
    },
    "colab_type": "code",
    "id": "HotTwxV36NoP",
    "outputId": "717e2174-c9df-4f3d-fcf6-79e62c166bf3"
   },
   "outputs": [
    {
     "name": "stdout",
     "output_type": "stream",
     "text": [
      "Accuracy: 92.17%\n"
     ]
    },
    {
     "data": {
      "image/png": "[encoded data removed]",
      "text/plain": [
       "<matplotlib.figure.Figure at 0x7fa456327518>"
      ]
     },
     "metadata": {
      "tags": []
     },
     "output_type": "display_data"
    }
   ],
   "source": [
    "# Final evaluation of the model\n",
    "scores = model_3.evaluate(X_test, Y_test, verbose=0)\n",
    "print(\"Accuracy: %.2f%%\" % (scores[1]*100))\n",
    "\n",
    "# Test and train accuracy of the model\n",
    "model_3_test = scores[1]\n",
    "model_3_train = max(history_3.history['acc'])\n",
    "\n",
    "# Plotting Train and Test Loss VS no. of epochs\n",
    "# list of epoch numbers\n",
    "x = list(range(1,8))\n",
    "\n",
    "# Validation loss\n",
    "vy = history_3.history['val_loss']\n",
    "# Training loss\n",
    "ty = history_3.history['loss']\n",
    "\n",
    "# Calling the function to draw the plot\n",
    "plt_dynamic(x, vy, ty)"
   ]
  },
  {
   "cell_type": "markdown",
   "metadata": {
    "colab_type": "text",
    "id": "hw8TtEKq6oUF"
   },
   "source": [
    "## (4). RNN with 4 LSTM layers"
   ]
  },
  {
   "cell_type": "code",
   "execution_count": 30,
   "metadata": {
    "colab": {
     "base_uri": "https://localhost:8080/",
     "height": 656
    },
    "colab_type": "code",
    "id": "nzfjgSzT6urM",
    "outputId": "f1e29ef9-38ed-4de7-c7fe-b354199516ed"
   },
   "outputs": [
    {
     "name": "stdout",
     "output_type": "stream",
     "text": [
      "_________________________________________________________________\n",
      "Layer (type)                 Output Shape              Param #   \n",
      "=================================================================\n",
      "embedding_7 (Embedding)      (None, 100, 64)           4583104   \n",
      "_________________________________________________________________\n",
      "lstm_15 (LSTM)               (None, 100, 120)          88800     \n",
      "_________________________________________________________________\n",
      "lstm_16 (LSTM)               (None, 100, 100)          88400     \n",
      "_________________________________________________________________\n",
      "lstm_17 (LSTM)               (None, 100, 80)           57920     \n",
      "_________________________________________________________________\n",
      "lstm_18 (LSTM)               (None, 60)                33840     \n",
      "_________________________________________________________________\n",
      "dense_7 (Dense)              (None, 1)                 61        \n",
      "=================================================================\n",
      "Total params: 4,852,125\n",
      "Trainable params: 4,852,125\n",
      "Non-trainable params: 0\n",
      "_________________________________________________________________\n",
      "None\n",
      "Train on 182068 samples, validate on 182068 samples\n",
      "Epoch 1/8\n",
      "182068/182068 [==============================] - 183s 1ms/step - loss: 0.4062 - acc: 0.8517 - val_loss: 0.2577 - val_acc: 0.8959\n",
      "Epoch 2/8\n",
      "182068/182068 [==============================] - 178s 976us/step - loss: 0.2331 - acc: 0.9087 - val_loss: 0.2115 - val_acc: 0.9158\n",
      "Epoch 3/8\n",
      "182068/182068 [==============================] - 177s 971us/step - loss: 0.2022 - acc: 0.9222 - val_loss: 0.2049 - val_acc: 0.9202\n",
      "Epoch 4/8\n",
      "182068/182068 [==============================] - 177s 972us/step - loss: 0.1883 - acc: 0.9281 - val_loss: 0.2059 - val_acc: 0.9214\n",
      "Epoch 5/8\n",
      "182068/182068 [==============================] - 177s 971us/step - loss: 0.1783 - acc: 0.9320 - val_loss: 0.2021 - val_acc: 0.9222\n",
      "Epoch 6/8\n",
      "182068/182068 [==============================] - 177s 972us/step - loss: 0.1711 - acc: 0.9349 - val_loss: 0.2026 - val_acc: 0.9225\n",
      "Epoch 7/8\n",
      "182068/182068 [==============================] - 177s 972us/step - loss: 0.1658 - acc: 0.9372 - val_loss: 0.2031 - val_acc: 0.9229\n",
      "Epoch 8/8\n",
      "182068/182068 [==============================] - 177s 972us/step - loss: 0.1614 - acc: 0.9392 - val_loss: 0.2050 - val_acc: 0.9218\n"
     ]
    }
   ],
   "source": [
    "# create the model\n",
    "embedding_vecor_length = 64\n",
    "\n",
    "# Initialising the model\n",
    "model_4 = Sequential()\n",
    "\n",
    "# Adding embedding\n",
    "model_4.add(Embedding(len(vocabulary), embedding_vecor_length, input_length=max_review_length))\n",
    "\n",
    "# Adding first LSTM layer\n",
    "model_4.add(LSTM(120,return_sequences=True, dropout=0.6, recurrent_dropout=0.6))\n",
    "\n",
    "# Adding second LSTM layer\n",
    "model_4.add(LSTM(100,return_sequences=True, dropout=0.5, recurrent_dropout=0.5))\n",
    "\n",
    "# Adding third LSTM layer\n",
    "model_4.add(LSTM(80,return_sequences=True, dropout=0.4, recurrent_dropout=0.4))\n",
    "\n",
    "# Adding fourth LSTM layer\n",
    "model_4.add(LSTM(60, dropout=0.3, recurrent_dropout=0.3))\n",
    "\n",
    "# Adding output layer\n",
    "model_4.add(Dense(1, activation='sigmoid'))\n",
    "\n",
    "# Printing the model summary\n",
    "print(model_4.summary())\n",
    "\n",
    "# Compiling the model\n",
    "model_4.compile(loss='binary_crossentropy', optimizer='adam', metrics=['accuracy'])\n",
    "\n",
    "# Fitting the data to the model\n",
    "history_4 = model_4.fit(X_train, Y_train, nb_epoch=8, batch_size=2048 ,verbose=1,validation_data=(X_test, Y_test))"
   ]
  },
  {
   "cell_type": "code",
   "execution_count": 31,
   "metadata": {
    "colab": {
     "base_uri": "https://localhost:8080/",
     "height": 381
    },
    "colab_type": "code",
    "id": "nvos4p3R7whc",
    "outputId": "4531ab6a-714d-4a1b-e2f4-e8ea093d4f99"
   },
   "outputs": [
    {
     "name": "stdout",
     "output_type": "stream",
     "text": [
      "Accuracy: 92.18%\n"
     ]
    },
    {
     "data": {
      "image/png": "[encoded data removed]",
      "text/plain": [
       "<matplotlib.figure.Figure at 0x7fa45c2a9588>"
      ]
     },
     "metadata": {
      "tags": []
     },
     "output_type": "display_data"
    }
   ],
   "source": [
    "# Final evaluation of the model\n",
    "scores = model_4.evaluate(X_test, Y_test, verbose=0)\n",
    "print(\"Accuracy: %.2f%%\" % (scores[1]*100))\n",
    "\n",
    "# Test and train accuracy of the model\n",
    "model_4_test = scores[1]\n",
    "model_4_train = max(history_4.history['acc'])\n",
    "\n",
    "# Plotting Train and Test Loss VS no. of epochs\n",
    "# list of epoch numbers\n",
    "x = list(range(1,9))\n",
    "\n",
    "# Validation loss\n",
    "vy = history_4.history['val_loss']\n",
    "# Training loss\n",
    "ty = history_4.history['loss']\n",
    "\n",
    "# Calling the function to draw the plot\n",
    "plt_dynamic(x, vy, ty)"
   ]
  },
  {
   "cell_type": "markdown",
   "metadata": {
    "colab_type": "text",
    "id": "9eeSs_TD2JYa"
   },
   "source": [
    "## CONCLUSION"
   ]
  },
  {
   "cell_type": "markdown",
   "metadata": {
    "colab_type": "text",
    "id": "bYyr5mGh2OSR"
   },
   "source": [
    "## (a). Procedure Followed :"
   ]
  },
  {
   "cell_type": "markdown",
   "metadata": {
    "colab_type": "text",
    "id": "SIlit0Ai2Uih"
   },
   "source": [
    "\n",
    "\n",
    "1.   Load Amazon Fine Food Reviews dataset\n",
    "2.   Perform text pre-processing\n",
    "3.  Sort the dataset on the basis of time and after that find vocabulary for all the reviews in the dataset\n",
    "4.  Now compute frequencies for each word of vocabulary\n",
    "5.  Index each word in the decreasing order of frequencies (Word with max frequency will have rank 1 or index 1)\n",
    "6.  Convert the dataset into imdb dataset format\n",
    "7.  Split whole dataset into 50-50 for training_data and test_data randomly\n",
    "8.  Now pad or truncate each review intpo sequences of length 100\n",
    "9.  Now implement RNN with 1 , 2 ,3 and 4 LSTM layers\n",
    "10. Find accuracy for each\n",
    "11. Draw Binary Crossentropy Loss VS No.of Epochs plot \n",
    "\n"
   ]
  },
  {
   "cell_type": "markdown",
   "metadata": {
    "colab_type": "text",
    "id": "PZ7g0tsY4ehC"
   },
   "source": [
    "## (b) Table (Different models with their train and test accuracies):"
   ]
  },
  {
   "cell_type": "code",
   "execution_count": 33,
   "metadata": {
    "colab": {
     "base_uri": "https://localhost:8080/",
     "height": 173
    },
    "colab_type": "code",
    "id": "JunMOjeB4oP_",
    "outputId": "05638074-c134-4227-c0c0-781aca2c4027"
   },
   "outputs": [
    {
     "name": "stdout",
     "output_type": "stream",
     "text": [
      "Requirement already satisfied: prettytable in /usr/local/lib/python3.6/dist-packages (0.7.2)\n",
      "+-------+------------------------+--------------------+--------------------+\n",
      "| S.NO. |         MODEL          | Training Accuracy  |   Test Accuracy    |\n",
      "+-------+------------------------+--------------------+--------------------+\n",
      "|   1   | RNN With 1 LSTM Layer  | 0.9612836961699912 | 0.919315860009658  |\n",
      "|   2   | RNN With 2 LSTM Layers | 0.9493485950435232 | 0.9196618845705999 |\n",
      "|   3   | RNN With 3 LSTM Layers | 0.9418843509005513 | 0.9217160621306325 |\n",
      "|   4   | RNN With 4 LSTM Layers | 0.9391600942390127 | 0.921792956479109  |\n",
      "+-------+------------------------+--------------------+--------------------+\n"
     ]
    }
   ],
   "source": [
    "# Installing the library prettytable\n",
    "!pip install prettytable\n",
    "\n",
    "# Creating table using PrettyTable library\n",
    "from prettytable import PrettyTable\n",
    "\n",
    "# Names of models\n",
    "names = ['RNN With 1 LSTM Layer','RNN With 2 LSTM Layers','RNN With 3 LSTM Layers','RNN With 4 LSTM Layers']\n",
    "\n",
    "# Training accuracies\n",
    "train_acc = [model_1_train,model_2_train,model_3_train,model_4_train]\n",
    "\n",
    "# Test accuracies\n",
    "test_acc = [model_1_test,model_2_test,model_3_test,model_4_test]\n",
    "\n",
    "numbering = [1,2,3,4]\n",
    "\n",
    "# Initializing prettytable\n",
    "ptable = PrettyTable()\n",
    "\n",
    "# Adding columns\n",
    "ptable.add_column(\"S.NO.\",numbering)\n",
    "ptable.add_column(\"MODEL\",names)\n",
    "ptable.add_column(\"Training Accuracy\",train_acc)\n",
    "ptable.add_column(\"Test Accuracy\",test_acc)\n",
    "\n",
    "# Printing the Table\n",
    "print(ptable)"
   ]
  }
 ],
 "metadata": {
  "accelerator": "GPU",
  "colab": {
   "collapsed_sections": [],
   "name": "Assignment-14(Amazon Food Reviews LSTM model).ipynb",
   "provenance": [],
   "version": "0.3.2"
  },
  "kernelspec": {
   "display_name": "Python 3",
   "language": "python",
   "name": "python3"
  },
  "language_info": {
   "codemirror_mode": {
    "name": "ipython",
    "version": 3
   },
   "file_extension": ".py",
   "mimetype": "text/x-python",
   "name": "python",
   "nbconvert_exporter": "python",
   "pygments_lexer": "ipython3",
   "version": "3.6.5"
  }
 },
 "nbformat": 4,
 "nbformat_minor": 1
}
